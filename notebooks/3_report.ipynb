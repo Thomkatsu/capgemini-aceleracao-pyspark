{
 "cells": [
  {
   "cell_type": "markdown",
   "id": "4d432eb9",
   "metadata": {},
   "source": [
    "# Semana 4 - Relatórios"
   ]
  },
  {
   "cell_type": "code",
   "execution_count": 1,
   "id": "821b2bf5",
   "metadata": {},
   "outputs": [
    {
     "name": "stdout",
     "output_type": "stream",
     "text": [
      "Requirement already satisfied: pyspark in c:\\users\\tsaheki\\anaconda3\\lib\\site-packages (3.2.1)\n",
      "Requirement already satisfied: py4j==0.10.9.3 in c:\\users\\tsaheki\\anaconda3\\lib\\site-packages (from pyspark) (0.10.9.3)\n",
      "Requirement already satisfied: findspark in c:\\users\\tsaheki\\anaconda3\\lib\\site-packages (2.0.1)\n"
     ]
    }
   ],
   "source": [
    "!pip install pyspark\n",
    "!pip install findspark"
   ]
  },
  {
   "cell_type": "code",
   "execution_count": 2,
   "id": "a6a52196",
   "metadata": {},
   "outputs": [],
   "source": [
    "import findspark\n",
    "findspark.init()"
   ]
  },
  {
   "cell_type": "code",
   "execution_count": 3,
   "id": "e5446a4e",
   "metadata": {},
   "outputs": [],
   "source": [
    "from pyspark import SparkContext, SparkConf\n",
    "from pyspark.sql import SparkSession\n",
    "from pyspark.sql import functions as F\n",
    "from pyspark.sql.types import StructType, StructField, StringType, IntegerType, FloatType\n",
    "from datetime import datetime"
   ]
  },
  {
   "cell_type": "code",
   "execution_count": 4,
   "id": "62259665",
   "metadata": {},
   "outputs": [],
   "source": [
    "# Criar o contexto do spark\n",
    "sc = SparkContext()\n",
    "\n",
    "# Instancia o criador de sessao do spark\n",
    "spark = (SparkSession.builder\n",
    "                     .master('local[2]')\n",
    "                     .appName('Relatorios')\n",
    "        )"
   ]
  },
  {
   "cell_type": "markdown",
   "id": "1414d939",
   "metadata": {},
   "source": [
    "# Importando arquivos parquet"
   ]
  },
  {
   "cell_type": "code",
   "execution_count": 5,
   "id": "a6c6965b",
   "metadata": {
    "scrolled": true
   },
   "outputs": [],
   "source": [
    "df_airports_qa = spark.getOrCreate().read.parquet(\"C:/Users/tsaheki/Documents/Treinamento PySpark - Relatorios/airports_qa.parquet\")\n",
    "\n",
    "df_planes_qa = spark.getOrCreate().read.parquet(\"C:/Users/tsaheki/Documents/Treinamento PySpark - Relatorios/planes_qa.parquet\")\n",
    "\n",
    "df_flights_qa = spark.getOrCreate().read.parquet(\"C:/Users/tsaheki/Documents/Treinamento PySpark - Relatorios/flights_qa.parquet\")\n",
    "\n",
    "df_airports_proc = spark.getOrCreate().read.parquet(\"C:/Users/tsaheki/Documents/Treinamento PySpark - Relatorios/airports_proc.parquet\")\n",
    "\n",
    "df_planes_proc = spark.getOrCreate().read.parquet(\"C:/Users/tsaheki/Documents/Treinamento PySpark - Relatorios/planes_proc.parquet\")\n",
    "\n",
    "df_flights_proc = spark.getOrCreate().read.parquet(\"C:/Users/tsaheki/Documents/Treinamento PySpark - Relatorios/flights_proc.parquet\")\n"
   ]
  },
  {
   "cell_type": "markdown",
   "id": "80e4bac8",
   "metadata": {},
   "source": [
    "#  PERGUNTAS DE QUALIDADE"
   ]
  },
  {
   "cell_type": "markdown",
   "id": "a40adbbc",
   "metadata": {},
   "source": [
    "# Pergunta 1"
   ]
  },
  {
   "cell_type": "code",
   "execution_count": 6,
   "id": "10333063",
   "metadata": {},
   "outputs": [],
   "source": [
    "df_airports_origin = df_airports_qa.select([F.col(c).alias(c+\"_airports_origin\") for c in df_airports_qa.columns])\n",
    "df_airports_dest = df_airports_qa.select([F.col(c).alias(c+\"_airports_dest\") for c in df_airports_qa.columns])\n",
    "df_planes = df_planes_qa.select([F.col(c).alias(c+\"_planes\") for c in df_planes_qa.columns])\n",
    "df_flights = df_flights_qa.select([F.col(c).alias(c+\"_flights\") for c in df_flights_qa.columns])"
   ]
  },
  {
   "cell_type": "code",
   "execution_count": 7,
   "id": "07d108bc",
   "metadata": {},
   "outputs": [
    {
     "data": {
      "text/html": [
       "<div>\n",
       "<style scoped>\n",
       "    .dataframe tbody tr th:only-of-type {\n",
       "        vertical-align: middle;\n",
       "    }\n",
       "\n",
       "    .dataframe tbody tr th {\n",
       "        vertical-align: top;\n",
       "    }\n",
       "\n",
       "    .dataframe thead th {\n",
       "        text-align: right;\n",
       "    }\n",
       "</style>\n",
       "<table border=\"1\" class=\"dataframe\">\n",
       "  <thead>\n",
       "    <tr style=\"text-align: right;\">\n",
       "      <th></th>\n",
       "      <th>qa_year_month_day_flights</th>\n",
       "      <th>qa_hour_minute_flights</th>\n",
       "      <th>qa_dep_arr_flights</th>\n",
       "      <th>qa_dep_arr_delay_flights</th>\n",
       "      <th>qa_carrier_flights</th>\n",
       "      <th>qa_tailnum_flights</th>\n",
       "      <th>qa_flight_flights</th>\n",
       "      <th>qa_origin_dest_flights</th>\n",
       "      <th>qa_air_time_flights</th>\n",
       "      <th>qa_distance_flights</th>\n",
       "      <th>...</th>\n",
       "      <th>qa_dst_airports_dest</th>\n",
       "      <th>qa_tailnum_planes</th>\n",
       "      <th>qa_year_planes</th>\n",
       "      <th>qa_type_planes</th>\n",
       "      <th>qa_manufacturer_planes</th>\n",
       "      <th>qa_model_planes</th>\n",
       "      <th>qa_engines_planes</th>\n",
       "      <th>qa_seats_planes</th>\n",
       "      <th>qa_speed_planes</th>\n",
       "      <th>qa_engine_planes</th>\n",
       "    </tr>\n",
       "  </thead>\n",
       "  <tbody>\n",
       "    <tr>\n",
       "      <th>0</th>\n",
       "      <td>None</td>\n",
       "      <td>None</td>\n",
       "      <td>None</td>\n",
       "      <td>None</td>\n",
       "      <td>None</td>\n",
       "      <td>None</td>\n",
       "      <td>None</td>\n",
       "      <td>None</td>\n",
       "      <td>None</td>\n",
       "      <td>None</td>\n",
       "      <td>...</td>\n",
       "      <td>None</td>\n",
       "      <td>S</td>\n",
       "      <td>None</td>\n",
       "      <td>None</td>\n",
       "      <td>None</td>\n",
       "      <td>None</td>\n",
       "      <td>None</td>\n",
       "      <td>None</td>\n",
       "      <td>M</td>\n",
       "      <td>None</td>\n",
       "    </tr>\n",
       "    <tr>\n",
       "      <th>1</th>\n",
       "      <td>None</td>\n",
       "      <td>None</td>\n",
       "      <td>None</td>\n",
       "      <td>None</td>\n",
       "      <td>None</td>\n",
       "      <td>None</td>\n",
       "      <td>F</td>\n",
       "      <td>None</td>\n",
       "      <td>None</td>\n",
       "      <td>None</td>\n",
       "      <td>...</td>\n",
       "      <td>None</td>\n",
       "      <td>S</td>\n",
       "      <td>None</td>\n",
       "      <td>None</td>\n",
       "      <td>None</td>\n",
       "      <td>None</td>\n",
       "      <td>None</td>\n",
       "      <td>None</td>\n",
       "      <td>M</td>\n",
       "      <td>None</td>\n",
       "    </tr>\n",
       "    <tr>\n",
       "      <th>2</th>\n",
       "      <td>None</td>\n",
       "      <td>None</td>\n",
       "      <td>None</td>\n",
       "      <td>None</td>\n",
       "      <td>None</td>\n",
       "      <td>None</td>\n",
       "      <td>F</td>\n",
       "      <td>None</td>\n",
       "      <td>None</td>\n",
       "      <td>None</td>\n",
       "      <td>...</td>\n",
       "      <td>None</td>\n",
       "      <td>S</td>\n",
       "      <td>None</td>\n",
       "      <td>None</td>\n",
       "      <td>None</td>\n",
       "      <td>None</td>\n",
       "      <td>None</td>\n",
       "      <td>None</td>\n",
       "      <td>M</td>\n",
       "      <td>None</td>\n",
       "    </tr>\n",
       "    <tr>\n",
       "      <th>3</th>\n",
       "      <td>None</td>\n",
       "      <td>None</td>\n",
       "      <td>None</td>\n",
       "      <td>None</td>\n",
       "      <td>None</td>\n",
       "      <td>None</td>\n",
       "      <td>F</td>\n",
       "      <td>None</td>\n",
       "      <td>None</td>\n",
       "      <td>None</td>\n",
       "      <td>...</td>\n",
       "      <td>None</td>\n",
       "      <td>S</td>\n",
       "      <td>None</td>\n",
       "      <td>None</td>\n",
       "      <td>None</td>\n",
       "      <td>None</td>\n",
       "      <td>None</td>\n",
       "      <td>None</td>\n",
       "      <td>M</td>\n",
       "      <td>None</td>\n",
       "    </tr>\n",
       "    <tr>\n",
       "      <th>4</th>\n",
       "      <td>None</td>\n",
       "      <td>None</td>\n",
       "      <td>None</td>\n",
       "      <td>None</td>\n",
       "      <td>None</td>\n",
       "      <td>None</td>\n",
       "      <td>F</td>\n",
       "      <td>None</td>\n",
       "      <td>None</td>\n",
       "      <td>None</td>\n",
       "      <td>...</td>\n",
       "      <td>None</td>\n",
       "      <td>S</td>\n",
       "      <td>None</td>\n",
       "      <td>None</td>\n",
       "      <td>None</td>\n",
       "      <td>None</td>\n",
       "      <td>None</td>\n",
       "      <td>None</td>\n",
       "      <td>M</td>\n",
       "      <td>None</td>\n",
       "    </tr>\n",
       "    <tr>\n",
       "      <th>...</th>\n",
       "      <td>...</td>\n",
       "      <td>...</td>\n",
       "      <td>...</td>\n",
       "      <td>...</td>\n",
       "      <td>...</td>\n",
       "      <td>...</td>\n",
       "      <td>...</td>\n",
       "      <td>...</td>\n",
       "      <td>...</td>\n",
       "      <td>...</td>\n",
       "      <td>...</td>\n",
       "      <td>...</td>\n",
       "      <td>...</td>\n",
       "      <td>...</td>\n",
       "      <td>...</td>\n",
       "      <td>...</td>\n",
       "      <td>...</td>\n",
       "      <td>...</td>\n",
       "      <td>...</td>\n",
       "      <td>...</td>\n",
       "      <td>...</td>\n",
       "    </tr>\n",
       "    <tr>\n",
       "      <th>9995</th>\n",
       "      <td>None</td>\n",
       "      <td>None</td>\n",
       "      <td>None</td>\n",
       "      <td>None</td>\n",
       "      <td>None</td>\n",
       "      <td>None</td>\n",
       "      <td>None</td>\n",
       "      <td>None</td>\n",
       "      <td>None</td>\n",
       "      <td>None</td>\n",
       "      <td>...</td>\n",
       "      <td>None</td>\n",
       "      <td>S</td>\n",
       "      <td>None</td>\n",
       "      <td>None</td>\n",
       "      <td>C</td>\n",
       "      <td>None</td>\n",
       "      <td>None</td>\n",
       "      <td>None</td>\n",
       "      <td>M</td>\n",
       "      <td>None</td>\n",
       "    </tr>\n",
       "    <tr>\n",
       "      <th>9996</th>\n",
       "      <td>None</td>\n",
       "      <td>None</td>\n",
       "      <td>None</td>\n",
       "      <td>None</td>\n",
       "      <td>None</td>\n",
       "      <td>F</td>\n",
       "      <td>None</td>\n",
       "      <td>None</td>\n",
       "      <td>None</td>\n",
       "      <td>None</td>\n",
       "      <td>...</td>\n",
       "      <td>None</td>\n",
       "      <td>None</td>\n",
       "      <td>None</td>\n",
       "      <td>None</td>\n",
       "      <td>None</td>\n",
       "      <td>None</td>\n",
       "      <td>None</td>\n",
       "      <td>None</td>\n",
       "      <td>None</td>\n",
       "      <td>None</td>\n",
       "    </tr>\n",
       "    <tr>\n",
       "      <th>9997</th>\n",
       "      <td>None</td>\n",
       "      <td>None</td>\n",
       "      <td>None</td>\n",
       "      <td>None</td>\n",
       "      <td>None</td>\n",
       "      <td>None</td>\n",
       "      <td>F</td>\n",
       "      <td>None</td>\n",
       "      <td>None</td>\n",
       "      <td>None</td>\n",
       "      <td>...</td>\n",
       "      <td>None</td>\n",
       "      <td>S</td>\n",
       "      <td>None</td>\n",
       "      <td>None</td>\n",
       "      <td>None</td>\n",
       "      <td>None</td>\n",
       "      <td>None</td>\n",
       "      <td>None</td>\n",
       "      <td>M</td>\n",
       "      <td>None</td>\n",
       "    </tr>\n",
       "    <tr>\n",
       "      <th>9998</th>\n",
       "      <td>None</td>\n",
       "      <td>None</td>\n",
       "      <td>None</td>\n",
       "      <td>None</td>\n",
       "      <td>None</td>\n",
       "      <td>None</td>\n",
       "      <td>None</td>\n",
       "      <td>None</td>\n",
       "      <td>None</td>\n",
       "      <td>None</td>\n",
       "      <td>...</td>\n",
       "      <td>None</td>\n",
       "      <td>S</td>\n",
       "      <td>None</td>\n",
       "      <td>None</td>\n",
       "      <td>None</td>\n",
       "      <td>None</td>\n",
       "      <td>None</td>\n",
       "      <td>None</td>\n",
       "      <td>M</td>\n",
       "      <td>None</td>\n",
       "    </tr>\n",
       "    <tr>\n",
       "      <th>9999</th>\n",
       "      <td>None</td>\n",
       "      <td>None</td>\n",
       "      <td>None</td>\n",
       "      <td>None</td>\n",
       "      <td>None</td>\n",
       "      <td>None</td>\n",
       "      <td>None</td>\n",
       "      <td>None</td>\n",
       "      <td>None</td>\n",
       "      <td>None</td>\n",
       "      <td>...</td>\n",
       "      <td>None</td>\n",
       "      <td>S</td>\n",
       "      <td>None</td>\n",
       "      <td>None</td>\n",
       "      <td>None</td>\n",
       "      <td>None</td>\n",
       "      <td>None</td>\n",
       "      <td>None</td>\n",
       "      <td>M</td>\n",
       "      <td>None</td>\n",
       "    </tr>\n",
       "  </tbody>\n",
       "</table>\n",
       "<p>10000 rows × 34 columns</p>\n",
       "</div>"
      ],
      "text/plain": [
       "     qa_year_month_day_flights qa_hour_minute_flights qa_dep_arr_flights  \\\n",
       "0                         None                   None               None   \n",
       "1                         None                   None               None   \n",
       "2                         None                   None               None   \n",
       "3                         None                   None               None   \n",
       "4                         None                   None               None   \n",
       "...                        ...                    ...                ...   \n",
       "9995                      None                   None               None   \n",
       "9996                      None                   None               None   \n",
       "9997                      None                   None               None   \n",
       "9998                      None                   None               None   \n",
       "9999                      None                   None               None   \n",
       "\n",
       "     qa_dep_arr_delay_flights qa_carrier_flights qa_tailnum_flights  \\\n",
       "0                        None               None               None   \n",
       "1                        None               None               None   \n",
       "2                        None               None               None   \n",
       "3                        None               None               None   \n",
       "4                        None               None               None   \n",
       "...                       ...                ...                ...   \n",
       "9995                     None               None               None   \n",
       "9996                     None               None                  F   \n",
       "9997                     None               None               None   \n",
       "9998                     None               None               None   \n",
       "9999                     None               None               None   \n",
       "\n",
       "     qa_flight_flights qa_origin_dest_flights qa_air_time_flights  \\\n",
       "0                 None                   None                None   \n",
       "1                    F                   None                None   \n",
       "2                    F                   None                None   \n",
       "3                    F                   None                None   \n",
       "4                    F                   None                None   \n",
       "...                ...                    ...                 ...   \n",
       "9995              None                   None                None   \n",
       "9996              None                   None                None   \n",
       "9997                 F                   None                None   \n",
       "9998              None                   None                None   \n",
       "9999              None                   None                None   \n",
       "\n",
       "     qa_distance_flights  ... qa_dst_airports_dest qa_tailnum_planes  \\\n",
       "0                   None  ...                 None                 S   \n",
       "1                   None  ...                 None                 S   \n",
       "2                   None  ...                 None                 S   \n",
       "3                   None  ...                 None                 S   \n",
       "4                   None  ...                 None                 S   \n",
       "...                  ...  ...                  ...               ...   \n",
       "9995                None  ...                 None                 S   \n",
       "9996                None  ...                 None              None   \n",
       "9997                None  ...                 None                 S   \n",
       "9998                None  ...                 None                 S   \n",
       "9999                None  ...                 None                 S   \n",
       "\n",
       "     qa_year_planes qa_type_planes qa_manufacturer_planes qa_model_planes  \\\n",
       "0              None           None                   None            None   \n",
       "1              None           None                   None            None   \n",
       "2              None           None                   None            None   \n",
       "3              None           None                   None            None   \n",
       "4              None           None                   None            None   \n",
       "...             ...            ...                    ...             ...   \n",
       "9995           None           None                      C            None   \n",
       "9996           None           None                   None            None   \n",
       "9997           None           None                   None            None   \n",
       "9998           None           None                   None            None   \n",
       "9999           None           None                   None            None   \n",
       "\n",
       "     qa_engines_planes qa_seats_planes qa_speed_planes qa_engine_planes  \n",
       "0                 None            None               M             None  \n",
       "1                 None            None               M             None  \n",
       "2                 None            None               M             None  \n",
       "3                 None            None               M             None  \n",
       "4                 None            None               M             None  \n",
       "...                ...             ...             ...              ...  \n",
       "9995              None            None               M             None  \n",
       "9996              None            None            None             None  \n",
       "9997              None            None               M             None  \n",
       "9998              None            None               M             None  \n",
       "9999              None            None               M             None  \n",
       "\n",
       "[10000 rows x 34 columns]"
      ]
     },
     "execution_count": 7,
     "metadata": {},
     "output_type": "execute_result"
    }
   ],
   "source": [
    "df_unificado = df_flights.join(df_airports_origin, df_flights.origin_flights == df_airports_origin.faa_airports_origin, 'left')\n",
    "\n",
    "df_unificado = df_unificado.join(df_airports_dest, df_unificado.dest_flights == df_airports_dest.faa_airports_dest, 'left')\n",
    "\n",
    "df_unificado = df_unificado.join(df_planes, df_unificado.tailnum_flights == df_planes.tailnum_planes, 'left')\n",
    "\n",
    "df_unificado = df_unificado.select(df_unificado.colRegex(\"`^qa_.*`\"))\n",
    "\n",
    "df_unificado.toPandas()"
   ]
  },
  {
   "cell_type": "markdown",
   "id": "bc33ab29",
   "metadata": {},
   "source": [
    "# Pergunta 2"
   ]
  },
  {
   "cell_type": "code",
   "execution_count": 8,
   "id": "f8723018",
   "metadata": {},
   "outputs": [
    {
     "name": "stdout",
     "output_type": "stream",
     "text": [
      "+------+-------------------------+\n",
      "|Issues|qa_year_month_day_flights|\n",
      "+------+-------------------------+\n",
      "+------+-------------------------+\n",
      "\n",
      "+------+----------------------+\n",
      "|Issues|qa_hour_minute_flights|\n",
      "+------+----------------------+\n",
      "|     M|                    48|\n",
      "+------+----------------------+\n",
      "\n",
      "+------+------------------+\n",
      "|Issues|qa_dep_arr_flights|\n",
      "+------+------------------+\n",
      "|     M|                55|\n",
      "|     F|               241|\n",
      "+------+------------------+\n",
      "\n",
      "+------+------------------------+\n",
      "|Issues|qa_dep_arr_delay_flights|\n",
      "+------+------------------------+\n",
      "|     M|                      75|\n",
      "+------+------------------------+\n",
      "\n",
      "+------+------------------+\n",
      "|Issues|qa_carrier_flights|\n",
      "+------+------------------+\n",
      "+------+------------------+\n",
      "\n",
      "+------+------------------+\n",
      "|Issues|qa_tailnum_flights|\n",
      "+------+------------------+\n",
      "|     S|                14|\n",
      "|     F|              1024|\n",
      "+------+------------------+\n",
      "\n",
      "+------+-----------------+\n",
      "|Issues|qa_flight_flights|\n",
      "+------+-----------------+\n",
      "|     F|             6158|\n",
      "+------+-----------------+\n",
      "\n",
      "+------+----------------------+\n",
      "|Issues|qa_origin_dest_flights|\n",
      "+------+----------------------+\n",
      "+------+----------------------+\n",
      "\n",
      "+------+-------------------+\n",
      "|Issues|qa_air_time_flights|\n",
      "+------+-------------------+\n",
      "|     M|                 75|\n",
      "+------+-------------------+\n",
      "\n",
      "+------+-------------------+\n",
      "|Issues|qa_distance_flights|\n",
      "+------+-------------------+\n",
      "+------+-------------------+\n",
      "\n",
      "+------+---------------------------+\n",
      "|Issues|qa_distance_airtime_flights|\n",
      "+------+---------------------------+\n",
      "|     M|                         75|\n",
      "|     T|                       9925|\n",
      "+------+---------------------------+\n",
      "\n",
      "+------+----------------------+\n",
      "|Issues|qa_faa_airports_origin|\n",
      "+------+----------------------+\n",
      "|     F|                 10000|\n",
      "+------+----------------------+\n",
      "\n",
      "+------+-----------------------+\n",
      "|Issues|qa_name_airports_origin|\n",
      "+------+-----------------------+\n",
      "+------+-----------------------+\n",
      "\n",
      "+------+----------------------+\n",
      "|Issues|qa_lat_airports_origin|\n",
      "+------+----------------------+\n",
      "|     I|                 10000|\n",
      "+------+----------------------+\n",
      "\n",
      "+------+----------------------+\n",
      "|Issues|qa_lon_airports_origin|\n",
      "+------+----------------------+\n",
      "|     I|                 10000|\n",
      "+------+----------------------+\n",
      "\n",
      "+------+----------------------+\n",
      "|Issues|qa_alt_airports_origin|\n",
      "+------+----------------------+\n",
      "+------+----------------------+\n",
      "\n",
      "+------+---------------------+\n",
      "|Issues|qa_tz_airports_origin|\n",
      "+------+---------------------+\n",
      "+------+---------------------+\n",
      "\n",
      "+------+----------------------+\n",
      "|Issues|qa_dst_airports_origin|\n",
      "+------+----------------------+\n",
      "+------+----------------------+\n",
      "\n",
      "+------+--------------------+\n",
      "|Issues|qa_faa_airports_dest|\n",
      "+------+--------------------+\n",
      "|     F|               10000|\n",
      "+------+--------------------+\n",
      "\n",
      "+------+---------------------+\n",
      "|Issues|qa_name_airports_dest|\n",
      "+------+---------------------+\n",
      "+------+---------------------+\n",
      "\n",
      "+------+--------------------+\n",
      "|Issues|qa_lat_airports_dest|\n",
      "+------+--------------------+\n",
      "|     I|               10000|\n",
      "+------+--------------------+\n",
      "\n",
      "+------+--------------------+\n",
      "|Issues|qa_lon_airports_dest|\n",
      "+------+--------------------+\n",
      "|     I|               10000|\n",
      "+------+--------------------+\n",
      "\n",
      "+------+--------------------+\n",
      "|Issues|qa_alt_airports_dest|\n",
      "+------+--------------------+\n",
      "+------+--------------------+\n",
      "\n",
      "+------+-------------------+\n",
      "|Issues|qa_tz_airports_dest|\n",
      "+------+-------------------+\n",
      "+------+-------------------+\n",
      "\n",
      "+------+--------------------+\n",
      "|Issues|qa_dst_airports_dest|\n",
      "+------+--------------------+\n",
      "+------+--------------------+\n",
      "\n",
      "+------+-----------------+\n",
      "|Issues|qa_tailnum_planes|\n",
      "+------+-----------------+\n",
      "|     F|               40|\n",
      "|     S|             9404|\n",
      "+------+-----------------+\n",
      "\n",
      "+------+--------------+\n",
      "|Issues|qa_year_planes|\n",
      "+------+--------------+\n",
      "|     I|             8|\n",
      "|     M|            94|\n",
      "+------+--------------+\n",
      "\n",
      "+------+--------------+\n",
      "|Issues|qa_type_planes|\n",
      "+------+--------------+\n",
      "+------+--------------+\n",
      "\n",
      "+------+----------------------+\n",
      "|Issues|qa_manufacturer_planes|\n",
      "+------+----------------------+\n",
      "+------+----------------------+\n",
      "\n",
      "+------+---------------+\n",
      "|Issues|qa_model_planes|\n",
      "+------+---------------+\n",
      "|     F|              9|\n",
      "+------+---------------+\n",
      "\n",
      "+------+-----------------+\n",
      "|Issues|qa_engines_planes|\n",
      "+------+-----------------+\n",
      "+------+-----------------+\n",
      "\n",
      "+------+---------------+\n",
      "|Issues|qa_seats_planes|\n",
      "+------+---------------+\n",
      "+------+---------------+\n",
      "\n",
      "+------+---------------+\n",
      "|Issues|qa_speed_planes|\n",
      "+------+---------------+\n",
      "|     M|           9443|\n",
      "+------+---------------+\n",
      "\n",
      "+------+----------------+\n",
      "|Issues|qa_engine_planes|\n",
      "+------+----------------+\n",
      "+------+----------------+\n",
      "\n"
     ]
    }
   ],
   "source": [
    "names = df_unificado.schema.names\n",
    "\n",
    "for c in names:\n",
    "    df_unificado = df_unificado.withColumn(c, (F.when((F.col(c).startswith(\"M\")) ,\"M\")\n",
    "                                                .when((F.col(c).startswith(\"F\")) ,\"F\")\n",
    "                                                .when((F.col(c).startswith(\"I\")) ,\"I\")\n",
    "                                                .when((F.col(c).startswith(\"S\")) ,\"S\")\n",
    "                                                .when((F.col(c).startswith(\"T\")) ,\"T\")\n",
    "                                                .otherwise(F.col(c))\n",
    "                                      )\n",
    "                                  )    \n",
    "    df_unificado.filter((F.col(c).isNotNull()) & (F.col(c).isin(\"M\",\"F\",\"I\",\"S\",\"T\"))).select(F.col(c)).groupBy(F.col(c).alias(\"Issues\")).agg(F.count(F.col(c)).cast('int').alias(c)).orderBy(F.col(c)).show()\n",
    "    "
   ]
  },
  {
   "cell_type": "markdown",
   "id": "fdda09a9",
   "metadata": {},
   "source": [
    "## Pergunta 2 (TRANSPOR DADOS)"
   ]
  },
  {
   "cell_type": "code",
   "execution_count": null,
   "id": "b7acd7ea",
   "metadata": {},
   "outputs": [],
   "source": [
    "columns = ['Var', 'F', 'I', 'M', 'S', 'T']\n",
    "Vals = [(\"Col1\", 0, 0, 0, 0, 0)]\n",
    "\n",
    "df_transposed = spark.getOrCreate().createDataFrame(Vals, columns)\n",
    "df_transposed = df_transposed.filter(F.col(\"Var\") != \"Col1\")\n",
    "\n",
    "names = df_final.schema.names\n",
    "\n",
    "for c in names:\n",
    "    df_final = df_final.withColumn(c, (F.when((F.col(c).startswith(\"M\")) ,\"M\")\n",
    "                                                                .when((F.col(c).startswith(\"F\")) ,\"F\")\n",
    "                                                                .when((F.col(c).startswith(\"I\")) ,\"I\")\n",
    "                                                                .when((F.col(c).startswith(\"S\")) ,\"S\")\n",
    "                                                                .when((F.col(c).startswith(\"T\")) ,\"T\")\n",
    "                                                                .otherwise(F.col(c))\n",
    "                                      )\n",
    "                                  )\n",
    "    df = df_final.filter((F.col(c).isNotNull()) & (F.col(c).isin(\"M\",\"F\",\"I\",\"S\",\"T\"))).select(F.col(c)).groupBy(F.col(c).alias(\"Issues_\")).agg(F.count(F.col(c)).cast('int').alias(c)).orderBy(F.col(c))\n",
    "    df = (df.withColumn(\"F\", (F.when((F.col(\"Issues_\").startswith(\"F\")), F.col(c)+0).otherwise(0)))\n",
    "            .withColumn(\"I\", (F.when((F.col(\"Issues_\").startswith(\"I\")), F.col(c)+0).otherwise(0)))\n",
    "            .withColumn(\"M\", (F.when((F.col(\"Issues_\").startswith(\"M\")), F.col(c)+0).otherwise(0)))\n",
    "            .withColumn(\"S\", (F.when((F.col(\"Issues_\").startswith(\"S\")), F.col(c)+0).otherwise(0)))\n",
    "            .withColumn(\"T\", (F.when((F.col(\"Issues_\").startswith(\"T\")), F.col(c)+0).otherwise(0)))\n",
    "            .withColumn(\"Var\", (F.when((F.col(\"Issues_\").isNotNull()), c)))\n",
    "         )\n",
    "    \n",
    "    df = df.select(\"Var\", \"F\", \"I\", \"M\", \"S\", \"T\")\n",
    "    \n",
    "    df_transposed = df_transposed.union(df)"
   ]
  },
  {
   "cell_type": "markdown",
   "id": "30e3e0e2",
   "metadata": {},
   "source": [
    "# Pergunta 3"
   ]
  },
  {
   "cell_type": "code",
   "execution_count": 9,
   "id": "26de561c",
   "metadata": {},
   "outputs": [
    {
     "name": "stdout",
     "output_type": "stream",
     "text": [
      "+------+-------------------------+\n",
      "|Issues|qa_year_month_day_flights|\n",
      "+------+-------------------------+\n",
      "+------+-------------------------+\n",
      "\n",
      "+------+----------------------+\n",
      "|Issues|qa_hour_minute_flights|\n",
      "+------+----------------------+\n",
      "|     M|                    48|\n",
      "+------+----------------------+\n",
      "\n",
      "+------+------------------+\n",
      "|Issues|qa_dep_arr_flights|\n",
      "+------+------------------+\n",
      "|     M|                55|\n",
      "+------+------------------+\n",
      "\n",
      "+------+------------------------+\n",
      "|Issues|qa_dep_arr_delay_flights|\n",
      "+------+------------------------+\n",
      "|     M|                      75|\n",
      "+------+------------------------+\n",
      "\n",
      "+------+------------------+\n",
      "|Issues|qa_carrier_flights|\n",
      "+------+------------------+\n",
      "+------+------------------+\n",
      "\n",
      "+------+------------------+\n",
      "|Issues|qa_tailnum_flights|\n",
      "+------+------------------+\n",
      "+------+------------------+\n",
      "\n",
      "+------+-----------------+\n",
      "|Issues|qa_flight_flights|\n",
      "+------+-----------------+\n",
      "+------+-----------------+\n",
      "\n",
      "+------+----------------------+\n",
      "|Issues|qa_origin_dest_flights|\n",
      "+------+----------------------+\n",
      "+------+----------------------+\n",
      "\n",
      "+------+-------------------+\n",
      "|Issues|qa_air_time_flights|\n",
      "+------+-------------------+\n",
      "|     M|                 75|\n",
      "+------+-------------------+\n",
      "\n",
      "+------+-------------------+\n",
      "|Issues|qa_distance_flights|\n",
      "+------+-------------------+\n",
      "+------+-------------------+\n",
      "\n",
      "+------+---------------------------+\n",
      "|Issues|qa_distance_airtime_flights|\n",
      "+------+---------------------------+\n",
      "|     M|                         75|\n",
      "+------+---------------------------+\n",
      "\n",
      "+------+----------------------+\n",
      "|Issues|qa_faa_airports_origin|\n",
      "+------+----------------------+\n",
      "+------+----------------------+\n",
      "\n",
      "+------+-----------------------+\n",
      "|Issues|qa_name_airports_origin|\n",
      "+------+-----------------------+\n",
      "+------+-----------------------+\n",
      "\n",
      "+------+----------------------+\n",
      "|Issues|qa_lat_airports_origin|\n",
      "+------+----------------------+\n",
      "+------+----------------------+\n",
      "\n",
      "+------+----------------------+\n",
      "|Issues|qa_lon_airports_origin|\n",
      "+------+----------------------+\n",
      "+------+----------------------+\n",
      "\n",
      "+------+----------------------+\n",
      "|Issues|qa_alt_airports_origin|\n",
      "+------+----------------------+\n",
      "+------+----------------------+\n",
      "\n",
      "+------+---------------------+\n",
      "|Issues|qa_tz_airports_origin|\n",
      "+------+---------------------+\n",
      "+------+---------------------+\n",
      "\n",
      "+------+----------------------+\n",
      "|Issues|qa_dst_airports_origin|\n",
      "+------+----------------------+\n",
      "+------+----------------------+\n",
      "\n",
      "+------+--------------------+\n",
      "|Issues|qa_faa_airports_dest|\n",
      "+------+--------------------+\n",
      "+------+--------------------+\n",
      "\n",
      "+------+---------------------+\n",
      "|Issues|qa_name_airports_dest|\n",
      "+------+---------------------+\n",
      "+------+---------------------+\n",
      "\n",
      "+------+--------------------+\n",
      "|Issues|qa_lat_airports_dest|\n",
      "+------+--------------------+\n",
      "+------+--------------------+\n",
      "\n",
      "+------+--------------------+\n",
      "|Issues|qa_lon_airports_dest|\n",
      "+------+--------------------+\n",
      "+------+--------------------+\n",
      "\n",
      "+------+--------------------+\n",
      "|Issues|qa_alt_airports_dest|\n",
      "+------+--------------------+\n",
      "+------+--------------------+\n",
      "\n",
      "+------+-------------------+\n",
      "|Issues|qa_tz_airports_dest|\n",
      "+------+-------------------+\n",
      "+------+-------------------+\n",
      "\n",
      "+------+--------------------+\n",
      "|Issues|qa_dst_airports_dest|\n",
      "+------+--------------------+\n",
      "+------+--------------------+\n",
      "\n",
      "+------+-----------------+\n",
      "|Issues|qa_tailnum_planes|\n",
      "+------+-----------------+\n",
      "+------+-----------------+\n",
      "\n",
      "+------+--------------+\n",
      "|Issues|qa_year_planes|\n",
      "+------+--------------+\n",
      "|     M|            94|\n",
      "+------+--------------+\n",
      "\n",
      "+------+--------------+\n",
      "|Issues|qa_type_planes|\n",
      "+------+--------------+\n",
      "+------+--------------+\n",
      "\n",
      "+------+----------------------+\n",
      "|Issues|qa_manufacturer_planes|\n",
      "+------+----------------------+\n",
      "+------+----------------------+\n",
      "\n",
      "+------+---------------+\n",
      "|Issues|qa_model_planes|\n",
      "+------+---------------+\n",
      "+------+---------------+\n",
      "\n",
      "+------+-----------------+\n",
      "|Issues|qa_engines_planes|\n",
      "+------+-----------------+\n",
      "+------+-----------------+\n",
      "\n",
      "+------+---------------+\n",
      "|Issues|qa_seats_planes|\n",
      "+------+---------------+\n",
      "+------+---------------+\n",
      "\n",
      "+------+---------------+\n",
      "|Issues|qa_speed_planes|\n",
      "+------+---------------+\n",
      "|     M|           9443|\n",
      "+------+---------------+\n",
      "\n",
      "+------+----------------+\n",
      "|Issues|qa_engine_planes|\n",
      "+------+----------------+\n",
      "+------+----------------+\n",
      "\n"
     ]
    }
   ],
   "source": [
    "names = df_unificado.schema.names\n",
    "\n",
    "for c in names:\n",
    "    df_unificado = df_unificado.withColumn(c, (F.when((F.col(c).startswith(\"M\")) ,\"M\")\n",
    "                                                .otherwise(F.col(c))\n",
    "                                      )\n",
    "                                  )    \n",
    "    df_unificado.filter((F.col(c).isNotNull()) & (F.col(c) == \"M\")).select(F.col(c)).groupBy(F.col(c).alias(\"Issues\")).agg(F.count(F.col(c)).cast('int').alias(c)).orderBy(F.col(c)).show()\n",
    "   \n"
   ]
  },
  {
   "cell_type": "markdown",
   "id": "d98683ce",
   "metadata": {},
   "source": [
    "# Pergunta 3 (Resposta do DF TRANSPOSE)"
   ]
  },
  {
   "cell_type": "code",
   "execution_count": null,
   "id": "73dc1e84",
   "metadata": {},
   "outputs": [],
   "source": [
    "(df_transposed.groupBy(\"Var\")\n",
    "              .agg(F.max('M').alias('Max_M'))\n",
    "              .agg(F.max(F.struct(F.col('Max_M'), F.col('Var'))).alias('Max_Var'))\n",
    "              .select('Max_Var.Var', 'Max_Var.Max_M').show())"
   ]
  },
  {
   "cell_type": "markdown",
   "id": "70c55f75",
   "metadata": {},
   "source": [
    "# Pergunta 4"
   ]
  },
  {
   "cell_type": "code",
   "execution_count": 10,
   "id": "cf011ba3",
   "metadata": {},
   "outputs": [
    {
     "name": "stdout",
     "output_type": "stream",
     "text": [
      "+------+-------------------------+\n",
      "|Issues|qa_year_month_day_flights|\n",
      "+------+-------------------------+\n",
      "+------+-------------------------+\n",
      "\n",
      "+------+----------------------+\n",
      "|Issues|qa_hour_minute_flights|\n",
      "+------+----------------------+\n",
      "+------+----------------------+\n",
      "\n",
      "+------+------------------+\n",
      "|Issues|qa_dep_arr_flights|\n",
      "+------+------------------+\n",
      "|     F|               241|\n",
      "+------+------------------+\n",
      "\n",
      "+------+------------------------+\n",
      "|Issues|qa_dep_arr_delay_flights|\n",
      "+------+------------------------+\n",
      "+------+------------------------+\n",
      "\n",
      "+------+------------------+\n",
      "|Issues|qa_carrier_flights|\n",
      "+------+------------------+\n",
      "+------+------------------+\n",
      "\n",
      "+------+------------------+\n",
      "|Issues|qa_tailnum_flights|\n",
      "+------+------------------+\n",
      "|     F|              1024|\n",
      "+------+------------------+\n",
      "\n",
      "+------+-----------------+\n",
      "|Issues|qa_flight_flights|\n",
      "+------+-----------------+\n",
      "|     F|             6158|\n",
      "+------+-----------------+\n",
      "\n",
      "+------+----------------------+\n",
      "|Issues|qa_origin_dest_flights|\n",
      "+------+----------------------+\n",
      "+------+----------------------+\n",
      "\n",
      "+------+-------------------+\n",
      "|Issues|qa_air_time_flights|\n",
      "+------+-------------------+\n",
      "+------+-------------------+\n",
      "\n",
      "+------+-------------------+\n",
      "|Issues|qa_distance_flights|\n",
      "+------+-------------------+\n",
      "+------+-------------------+\n",
      "\n",
      "+------+---------------------------+\n",
      "|Issues|qa_distance_airtime_flights|\n",
      "+------+---------------------------+\n",
      "+------+---------------------------+\n",
      "\n",
      "+------+----------------------+\n",
      "|Issues|qa_faa_airports_origin|\n",
      "+------+----------------------+\n",
      "|     F|                 10000|\n",
      "+------+----------------------+\n",
      "\n",
      "+------+-----------------------+\n",
      "|Issues|qa_name_airports_origin|\n",
      "+------+-----------------------+\n",
      "+------+-----------------------+\n",
      "\n",
      "+------+----------------------+\n",
      "|Issues|qa_lat_airports_origin|\n",
      "+------+----------------------+\n",
      "+------+----------------------+\n",
      "\n",
      "+------+----------------------+\n",
      "|Issues|qa_lon_airports_origin|\n",
      "+------+----------------------+\n",
      "+------+----------------------+\n",
      "\n",
      "+------+----------------------+\n",
      "|Issues|qa_alt_airports_origin|\n",
      "+------+----------------------+\n",
      "+------+----------------------+\n",
      "\n",
      "+------+---------------------+\n",
      "|Issues|qa_tz_airports_origin|\n",
      "+------+---------------------+\n",
      "+------+---------------------+\n",
      "\n",
      "+------+----------------------+\n",
      "|Issues|qa_dst_airports_origin|\n",
      "+------+----------------------+\n",
      "+------+----------------------+\n",
      "\n",
      "+------+--------------------+\n",
      "|Issues|qa_faa_airports_dest|\n",
      "+------+--------------------+\n",
      "|     F|               10000|\n",
      "+------+--------------------+\n",
      "\n",
      "+------+---------------------+\n",
      "|Issues|qa_name_airports_dest|\n",
      "+------+---------------------+\n",
      "+------+---------------------+\n",
      "\n",
      "+------+--------------------+\n",
      "|Issues|qa_lat_airports_dest|\n",
      "+------+--------------------+\n",
      "+------+--------------------+\n",
      "\n",
      "+------+--------------------+\n",
      "|Issues|qa_lon_airports_dest|\n",
      "+------+--------------------+\n",
      "+------+--------------------+\n",
      "\n",
      "+------+--------------------+\n",
      "|Issues|qa_alt_airports_dest|\n",
      "+------+--------------------+\n",
      "+------+--------------------+\n",
      "\n",
      "+------+-------------------+\n",
      "|Issues|qa_tz_airports_dest|\n",
      "+------+-------------------+\n",
      "+------+-------------------+\n",
      "\n",
      "+------+--------------------+\n",
      "|Issues|qa_dst_airports_dest|\n",
      "+------+--------------------+\n",
      "+------+--------------------+\n",
      "\n",
      "+------+-----------------+\n",
      "|Issues|qa_tailnum_planes|\n",
      "+------+-----------------+\n",
      "|     F|               40|\n",
      "+------+-----------------+\n",
      "\n",
      "+------+--------------+\n",
      "|Issues|qa_year_planes|\n",
      "+------+--------------+\n",
      "+------+--------------+\n",
      "\n",
      "+------+--------------+\n",
      "|Issues|qa_type_planes|\n",
      "+------+--------------+\n",
      "+------+--------------+\n",
      "\n",
      "+------+----------------------+\n",
      "|Issues|qa_manufacturer_planes|\n",
      "+------+----------------------+\n",
      "+------+----------------------+\n",
      "\n",
      "+------+---------------+\n",
      "|Issues|qa_model_planes|\n",
      "+------+---------------+\n",
      "|     F|              9|\n",
      "+------+---------------+\n",
      "\n",
      "+------+-----------------+\n",
      "|Issues|qa_engines_planes|\n",
      "+------+-----------------+\n",
      "+------+-----------------+\n",
      "\n",
      "+------+---------------+\n",
      "|Issues|qa_seats_planes|\n",
      "+------+---------------+\n",
      "+------+---------------+\n",
      "\n",
      "+------+---------------+\n",
      "|Issues|qa_speed_planes|\n",
      "+------+---------------+\n",
      "+------+---------------+\n",
      "\n",
      "+------+----------------+\n",
      "|Issues|qa_engine_planes|\n",
      "+------+----------------+\n",
      "+------+----------------+\n",
      "\n"
     ]
    }
   ],
   "source": [
    "names = df_unificado.schema.names\n",
    "\n",
    "for c in names:\n",
    "    df_unificado = df_unificado.withColumn(c, (F.when((F.col(c).startswith(\"F\")) ,\"F\")\n",
    "                                                .otherwise(F.col(c))\n",
    "                                      )\n",
    "                                  )    \n",
    "    df_unificado.filter((F.col(c).isNotNull()) & (F.col(c) == \"F\")).select(F.col(c)).groupBy(F.col(c).alias(\"Issues\")).agg(F.count(F.col(c)).cast('int').alias(c)).orderBy(F.col(c)).show()\n",
    "   \n"
   ]
  },
  {
   "cell_type": "markdown",
   "id": "b5a6fc3b",
   "metadata": {},
   "source": [
    "# Pergunta 4 (Resposta do DF TRANSPOSE)"
   ]
  },
  {
   "cell_type": "code",
   "execution_count": null,
   "id": "e93a2f74",
   "metadata": {},
   "outputs": [],
   "source": [
    "(df_transposed.groupBy(\"Var\")\n",
    "              .agg(F.max('F').alias('Max_F'))\n",
    "              .agg(F.max(F.struct(F.col('Max_F'), F.col('Var'))).alias('Max_Var'))\n",
    "              .select('Max_Var.Var', 'Max_Var.Max_F').show())"
   ]
  },
  {
   "cell_type": "markdown",
   "id": "a1a3234d",
   "metadata": {},
   "source": [
    "# Pergunta 5"
   ]
  },
  {
   "cell_type": "code",
   "execution_count": 11,
   "id": "e9f3574c",
   "metadata": {},
   "outputs": [
    {
     "name": "stdout",
     "output_type": "stream",
     "text": [
      "+------+-------------------------+\n",
      "|Issues|qa_year_month_day_flights|\n",
      "+------+-------------------------+\n",
      "+------+-------------------------+\n",
      "\n",
      "+------+----------------------+\n",
      "|Issues|qa_hour_minute_flights|\n",
      "+------+----------------------+\n",
      "+------+----------------------+\n",
      "\n",
      "+------+------------------+\n",
      "|Issues|qa_dep_arr_flights|\n",
      "+------+------------------+\n",
      "+------+------------------+\n",
      "\n",
      "+------+------------------------+\n",
      "|Issues|qa_dep_arr_delay_flights|\n",
      "+------+------------------------+\n",
      "+------+------------------------+\n",
      "\n",
      "+------+------------------+\n",
      "|Issues|qa_carrier_flights|\n",
      "+------+------------------+\n",
      "+------+------------------+\n",
      "\n",
      "+------+------------------+\n",
      "|Issues|qa_tailnum_flights|\n",
      "+------+------------------+\n",
      "+------+------------------+\n",
      "\n",
      "+------+-----------------+\n",
      "|Issues|qa_flight_flights|\n",
      "+------+-----------------+\n",
      "+------+-----------------+\n",
      "\n",
      "+------+----------------------+\n",
      "|Issues|qa_origin_dest_flights|\n",
      "+------+----------------------+\n",
      "+------+----------------------+\n",
      "\n",
      "+------+-------------------+\n",
      "|Issues|qa_air_time_flights|\n",
      "+------+-------------------+\n",
      "+------+-------------------+\n",
      "\n",
      "+------+-------------------+\n",
      "|Issues|qa_distance_flights|\n",
      "+------+-------------------+\n",
      "+------+-------------------+\n",
      "\n",
      "+------+---------------------------+\n",
      "|Issues|qa_distance_airtime_flights|\n",
      "+------+---------------------------+\n",
      "+------+---------------------------+\n",
      "\n",
      "+------+----------------------+\n",
      "|Issues|qa_faa_airports_origin|\n",
      "+------+----------------------+\n",
      "+------+----------------------+\n",
      "\n",
      "+------+-----------------------+\n",
      "|Issues|qa_name_airports_origin|\n",
      "+------+-----------------------+\n",
      "+------+-----------------------+\n",
      "\n",
      "+------+----------------------+\n",
      "|Issues|qa_lat_airports_origin|\n",
      "+------+----------------------+\n",
      "|     I|                 10000|\n",
      "+------+----------------------+\n",
      "\n",
      "+------+----------------------+\n",
      "|Issues|qa_lon_airports_origin|\n",
      "+------+----------------------+\n",
      "|     I|                 10000|\n",
      "+------+----------------------+\n",
      "\n",
      "+------+----------------------+\n",
      "|Issues|qa_alt_airports_origin|\n",
      "+------+----------------------+\n",
      "+------+----------------------+\n",
      "\n",
      "+------+---------------------+\n",
      "|Issues|qa_tz_airports_origin|\n",
      "+------+---------------------+\n",
      "+------+---------------------+\n",
      "\n",
      "+------+----------------------+\n",
      "|Issues|qa_dst_airports_origin|\n",
      "+------+----------------------+\n",
      "+------+----------------------+\n",
      "\n",
      "+------+--------------------+\n",
      "|Issues|qa_faa_airports_dest|\n",
      "+------+--------------------+\n",
      "+------+--------------------+\n",
      "\n",
      "+------+---------------------+\n",
      "|Issues|qa_name_airports_dest|\n",
      "+------+---------------------+\n",
      "+------+---------------------+\n",
      "\n",
      "+------+--------------------+\n",
      "|Issues|qa_lat_airports_dest|\n",
      "+------+--------------------+\n",
      "|     I|               10000|\n",
      "+------+--------------------+\n",
      "\n",
      "+------+--------------------+\n",
      "|Issues|qa_lon_airports_dest|\n",
      "+------+--------------------+\n",
      "|     I|               10000|\n",
      "+------+--------------------+\n",
      "\n",
      "+------+--------------------+\n",
      "|Issues|qa_alt_airports_dest|\n",
      "+------+--------------------+\n",
      "+------+--------------------+\n",
      "\n",
      "+------+-------------------+\n",
      "|Issues|qa_tz_airports_dest|\n",
      "+------+-------------------+\n",
      "+------+-------------------+\n",
      "\n",
      "+------+--------------------+\n",
      "|Issues|qa_dst_airports_dest|\n",
      "+------+--------------------+\n",
      "+------+--------------------+\n",
      "\n",
      "+------+-----------------+\n",
      "|Issues|qa_tailnum_planes|\n",
      "+------+-----------------+\n",
      "+------+-----------------+\n",
      "\n",
      "+------+--------------+\n",
      "|Issues|qa_year_planes|\n",
      "+------+--------------+\n",
      "|     I|             8|\n",
      "+------+--------------+\n",
      "\n",
      "+------+--------------+\n",
      "|Issues|qa_type_planes|\n",
      "+------+--------------+\n",
      "+------+--------------+\n",
      "\n",
      "+------+----------------------+\n",
      "|Issues|qa_manufacturer_planes|\n",
      "+------+----------------------+\n",
      "+------+----------------------+\n",
      "\n",
      "+------+---------------+\n",
      "|Issues|qa_model_planes|\n",
      "+------+---------------+\n",
      "+------+---------------+\n",
      "\n",
      "+------+-----------------+\n",
      "|Issues|qa_engines_planes|\n",
      "+------+-----------------+\n",
      "+------+-----------------+\n",
      "\n",
      "+------+---------------+\n",
      "|Issues|qa_seats_planes|\n",
      "+------+---------------+\n",
      "+------+---------------+\n",
      "\n",
      "+------+---------------+\n",
      "|Issues|qa_speed_planes|\n",
      "+------+---------------+\n",
      "+------+---------------+\n",
      "\n",
      "+------+----------------+\n",
      "|Issues|qa_engine_planes|\n",
      "+------+----------------+\n",
      "+------+----------------+\n",
      "\n"
     ]
    }
   ],
   "source": [
    "names = df_unificado.schema.names\n",
    "\n",
    "for c in names:\n",
    "    df_unificado = df_unificado.withColumn(c, (F.when((F.col(c).startswith(\"I\")) ,\"I\")\n",
    "                                                .otherwise(F.col(c))\n",
    "                                      )\n",
    "                                  )    \n",
    "    df_unificado.filter((F.col(c).isNotNull()) & (F.col(c) == \"I\")).select(F.col(c)).groupBy(F.col(c).alias(\"Issues\")).agg(F.count(F.col(c)).cast('int').alias(c)).orderBy(F.col(c)).show()\n",
    "   "
   ]
  },
  {
   "cell_type": "markdown",
   "id": "af16acf9",
   "metadata": {},
   "source": [
    "# Pergunta 5 (Resposta do DF TRANSPOSE)"
   ]
  },
  {
   "cell_type": "code",
   "execution_count": null,
   "id": "b1adb795",
   "metadata": {},
   "outputs": [],
   "source": [
    "(df_transposed.groupBy(\"Var\")\n",
    "              .agg(F.max('I').alias('Max_I'))\n",
    "              .agg(F.max(F.struct(F.col('Max_I'), F.col('Var'))).alias('Max_Var'))\n",
    "              .select('Max_Var.Var', 'Max_Var.Max_I').show())"
   ]
  },
  {
   "cell_type": "markdown",
   "id": "3a935924",
   "metadata": {},
   "source": [
    "# PERGUNTAS DE NEGÓCIO"
   ]
  },
  {
   "cell_type": "markdown",
   "id": "a42a9722",
   "metadata": {},
   "source": [
    "# Pergunta 1"
   ]
  },
  {
   "cell_type": "code",
   "execution_count": 12,
   "id": "ca579c9e",
   "metadata": {},
   "outputs": [],
   "source": [
    "df_airports_origin = df_airports_proc.select([F.col(c).alias(c+\"_airports_origin\") for c in df_airports_proc.columns])\n",
    "df_airports_dest = df_airports_proc.select([F.col(c).alias(c+\"_airports_dest\") for c in df_airports_proc.columns])\n",
    "df_planes = df_planes_proc.select([F.col(c).alias(c+\"_planes\") for c in df_planes_proc.columns])\n",
    "df_flights = df_flights_proc.select([F.col(c).alias(c+\"_flights\") for c in df_flights_proc.columns])"
   ]
  },
  {
   "cell_type": "code",
   "execution_count": 13,
   "id": "bfe9529b",
   "metadata": {},
   "outputs": [],
   "source": [
    "df_unificado_proc = df_flights.join(df_airports_origin, df_flights.origin_flights == df_airports_origin.faa_airports_origin, 'left')\n",
    "\n",
    "df_unificado_proc = df_unificado_proc.join(df_airports_dest, df_unificado_proc.dest_flights == df_airports_dest.faa_airports_dest, 'left')\n",
    "\n",
    "df_unificado_proc = df_unificado_proc.join(df_planes, df_unificado_proc.tailnum_flights == df_planes.tailnum_planes, 'left')\n"
   ]
  },
  {
   "cell_type": "code",
   "execution_count": 14,
   "id": "28d33fed",
   "metadata": {},
   "outputs": [],
   "source": [
    "# Criando view\n",
    "\n",
    "df_unificado_proc.createOrReplaceTempView('unificado_proc')"
   ]
  },
  {
   "cell_type": "markdown",
   "id": "d7ce8b78",
   "metadata": {},
   "source": [
    "# Pergunta 2"
   ]
  },
  {
   "cell_type": "code",
   "execution_count": 15,
   "id": "55492a3d",
   "metadata": {},
   "outputs": [
    {
     "name": "stdout",
     "output_type": "stream",
     "text": [
      "+--------------------+-----+\n",
      "|region_airports_dest|count|\n",
      "+--------------------+-----+\n",
      "|              ALASKA|    9|\n",
      "|       MAINLAND-EAST|   24|\n",
      "|       MAINLAND-WEST|   36|\n",
      "+--------------------+-----+\n",
      "\n"
     ]
    }
   ],
   "source": [
    "(df_unificado_proc.drop_duplicates(['faa_airports_dest']).select('faa_airports_dest', 'region_airports_dest')).groupBy('region_airports_dest').count().show()"
   ]
  },
  {
   "cell_type": "markdown",
   "id": "afe6520f",
   "metadata": {},
   "source": [
    "# Pergunta 3"
   ]
  },
  {
   "cell_type": "code",
   "execution_count": 16,
   "id": "6ceb9cff",
   "metadata": {},
   "outputs": [
    {
     "name": "stdout",
     "output_type": "stream",
     "text": [
      "+----------------------------------------------+\n",
      "|max((alt_airports_origin - alt_airports_dest))|\n",
      "+----------------------------------------------+\n",
      "|                                           429|\n",
      "+----------------------------------------------+\n",
      "\n"
     ]
    }
   ],
   "source": [
    "df_unificado_proc.agg(F.max((F.col('alt_airports_origin'))-(F.col('alt_airports_dest')))).show()"
   ]
  },
  {
   "cell_type": "markdown",
   "id": "a067f029",
   "metadata": {},
   "source": [
    "# Pergunta 4"
   ]
  },
  {
   "cell_type": "code",
   "execution_count": 17,
   "id": "e93b8975",
   "metadata": {},
   "outputs": [
    {
     "name": "stdout",
     "output_type": "stream",
     "text": [
      "+----------------------+\n",
      "|avg(arr_delay_flights)|\n",
      "+----------------------+\n",
      "|      24.6496644295302|\n",
      "+----------------------+\n",
      "\n",
      "+----------------------+\n",
      "|avg(dep_delay_flights)|\n",
      "+----------------------+\n",
      "|      25.5242774566474|\n",
      "+----------------------+\n",
      "\n"
     ]
    }
   ],
   "source": [
    "(df_unificado_proc.filter(F.col('arr_delay_flights')>0)).agg(F.avg(F.col('arr_delay_flights'))).show()\n",
    "\n",
    "(df_unificado_proc.filter(F.col('dep_delay_flights')>0)).agg(F.avg(F.col('dep_delay_flights'))).show()"
   ]
  },
  {
   "cell_type": "markdown",
   "id": "3a8180a1",
   "metadata": {},
   "source": [
    "# Pergunta 5"
   ]
  },
  {
   "cell_type": "code",
   "execution_count": 18,
   "id": "17f1429b",
   "metadata": {},
   "outputs": [
    {
     "name": "stdout",
     "output_type": "stream",
     "text": [
      "+--------------------+----------------------+\n",
      "|region_airports_dest|avg(arr_delay_flights)|\n",
      "+--------------------+----------------------+\n",
      "|              ALASKA|    22.210796915167094|\n",
      "|       MAINLAND-EAST|    28.529850746268657|\n",
      "|       MAINLAND-WEST|     23.79225908372828|\n",
      "+--------------------+----------------------+\n",
      "\n"
     ]
    }
   ],
   "source": [
    "(df_unificado_proc.filter(F.col('arr_delay_flights')>0)).groupBy('region_airports_dest').avg('arr_delay_flights').show()\n",
    "\n",
    "#.agg(F.avg(F.col('arr_delay_flights'))).show()\n",
    "\n",
    "\n"
   ]
  },
  {
   "cell_type": "markdown",
   "id": "775f3cd4",
   "metadata": {},
   "source": [
    "# Pergunta 6"
   ]
  },
  {
   "cell_type": "code",
   "execution_count": 19,
   "id": "5ddb9de0",
   "metadata": {},
   "outputs": [
    {
     "name": "stdout",
     "output_type": "stream",
     "text": [
      "+----------------------------------------+----------------------+\n",
      "|year(to_timestamp(dep_datetime_flights))|sum(arr_delay_flights)|\n",
      "+----------------------------------------+----------------------+\n",
      "|                                    2014|                 91820|\n",
      "+----------------------------------------+----------------------+\n",
      "\n"
     ]
    }
   ],
   "source": [
    "(df_unificado_proc.filter(F.col('arr_delay_flights')>0)).groupBy(F.year(F.to_timestamp('dep_datetime_flights'))).sum('arr_delay_flights').show()"
   ]
  },
  {
   "cell_type": "markdown",
   "id": "16f44214",
   "metadata": {},
   "source": [
    "# Pergunta 7"
   ]
  },
  {
   "cell_type": "code",
   "execution_count": 20,
   "id": "0d81b279",
   "metadata": {},
   "outputs": [
    {
     "name": "stdout",
     "output_type": "stream",
     "text": [
      "+----------------------------------------+--------------------+----------------------+\n",
      "|year(to_timestamp(dep_datetime_flights))|region_airports_dest|sum(arr_delay_flights)|\n",
      "+----------------------------------------+--------------------+----------------------+\n",
      "|                                    2014|              ALASKA|                  8640|\n",
      "|                                    2014|       MAINLAND-EAST|                 22938|\n",
      "|                                    2014|       MAINLAND-WEST|                 60242|\n",
      "+----------------------------------------+--------------------+----------------------+\n",
      "\n"
     ]
    }
   ],
   "source": [
    "(df_unificado_proc.filter(F.col('arr_delay_flights')>0)).groupBy(F.year(F.to_timestamp('dep_datetime_flights')), 'region_airports_dest').sum('arr_delay_flights').show()"
   ]
  },
  {
   "cell_type": "markdown",
   "id": "b9dfdfdd",
   "metadata": {},
   "source": [
    "# Pergunta 8"
   ]
  },
  {
   "cell_type": "code",
   "execution_count": 21,
   "id": "9616b5e3",
   "metadata": {},
   "outputs": [
    {
     "name": "stdout",
     "output_type": "stream",
     "text": [
      "+---------------------+\n",
      "|avg(air_time_flights)|\n",
      "+---------------------+\n",
      "|               152.43|\n",
      "+---------------------+\n",
      "\n"
     ]
    }
   ],
   "source": [
    "df_unificado_proc.agg(F.avg(F.col('air_time_flights'))).show()"
   ]
  },
  {
   "cell_type": "markdown",
   "id": "5e7a25f1",
   "metadata": {},
   "source": [
    "# Pergunta 9"
   ]
  },
  {
   "cell_type": "code",
   "execution_count": 22,
   "id": "860705eb",
   "metadata": {},
   "outputs": [
    {
     "name": "stdout",
     "output_type": "stream",
     "text": [
      "+--------------------+---------------------+\n",
      "|region_airports_dest|avg(air_time_flights)|\n",
      "+--------------------+---------------------+\n",
      "|              ALASKA|   227.35474308300394|\n",
      "|       MAINLAND-EAST|   236.58582089552237|\n",
      "|       MAINLAND-WEST|   114.98787258912917|\n",
      "+--------------------+---------------------+\n",
      "\n"
     ]
    }
   ],
   "source": [
    "df_unificado_proc.groupBy('region_airports_dest').avg('air_time_flights').show()"
   ]
  },
  {
   "cell_type": "markdown",
   "id": "1d2f8489",
   "metadata": {},
   "source": [
    "# Pergunta 10"
   ]
  },
  {
   "cell_type": "code",
   "execution_count": 23,
   "id": "7beb5de9",
   "metadata": {
    "scrolled": true
   },
   "outputs": [
    {
     "name": "stdout",
     "output_type": "stream",
     "text": [
      "+-------------------+-----------------+---------------------+\n",
      "|faa_airports_origin|faa_airports_dest|avg(air_time_flights)|\n",
      "+-------------------+-----------------+---------------------+\n",
      "|                SEA|              RNO|                 76.0|\n",
      "|                SEA|              DTW|                219.0|\n",
      "|                SEA|              CLE|                233.0|\n",
      "|                SEA|              LAX|                126.0|\n",
      "|                PDX|              SEA|                 34.0|\n",
      "|                SEA|              BLI|                 29.0|\n",
      "|                PDX|              IAH|                213.0|\n",
      "|                PDX|              PHX|                130.0|\n",
      "|                SEA|              SLC|                 88.0|\n",
      "|                SEA|              SBA|                118.0|\n",
      "|                SEA|              BWI|                269.0|\n",
      "|                PDX|              IAD|                267.0|\n",
      "|                PDX|              SFO|                 85.0|\n",
      "|                SEA|              KOA|                347.0|\n",
      "|                PDX|              MCI|                174.0|\n",
      "|                SEA|              SJC|                103.0|\n",
      "|                SEA|              ABQ|                142.0|\n",
      "|                SEA|              SAT|                208.0|\n",
      "|                PDX|              ONT|                111.0|\n",
      "|                SEA|              LAS|                118.0|\n",
      "+-------------------+-----------------+---------------------+\n",
      "only showing top 20 rows\n",
      "\n"
     ]
    }
   ],
   "source": [
    "df_unificado_proc.groupBy('faa_airports_origin','faa_airports_dest').avg('air_time_flights').show()"
   ]
  },
  {
   "cell_type": "markdown",
   "id": "53cd4723",
   "metadata": {},
   "source": [
    "# Pergunta 11 "
   ]
  },
  {
   "cell_type": "code",
   "execution_count": 24,
   "id": "378143f0",
   "metadata": {},
   "outputs": [
    {
     "name": "stdout",
     "output_type": "stream",
     "text": [
      "+----------------------------------------+---------------------+\n",
      "|year(to_timestamp(dep_datetime_flights))|sum(air_time_flights)|\n",
      "+----------------------------------------+---------------------+\n",
      "|                                    2014|              1524300|\n",
      "+----------------------------------------+---------------------+\n",
      "\n"
     ]
    }
   ],
   "source": [
    "df_unificado_proc.groupBy(F.year(F.to_timestamp('dep_datetime_flights'))).sum('air_time_flights').show()"
   ]
  },
  {
   "cell_type": "markdown",
   "id": "5909de3b",
   "metadata": {},
   "source": [
    "# Pergunta 12"
   ]
  },
  {
   "cell_type": "code",
   "execution_count": 25,
   "id": "b644c3a4",
   "metadata": {},
   "outputs": [
    {
     "name": "stdout",
     "output_type": "stream",
     "text": [
      "+--------------------+---------------------+\n",
      "|region_airports_dest|sum(air_time_flights)|\n",
      "+--------------------+---------------------+\n",
      "|              ALASKA|               230083|\n",
      "|       MAINLAND-EAST|               507240|\n",
      "|       MAINLAND-WEST|               786977|\n",
      "+--------------------+---------------------+\n",
      "\n"
     ]
    }
   ],
   "source": [
    "df_unificado_proc.groupBy('region_airports_dest').sum('air_time_flights').show()"
   ]
  },
  {
   "cell_type": "markdown",
   "id": "bf493b5c",
   "metadata": {},
   "source": [
    "# Pergunta 13"
   ]
  },
  {
   "cell_type": "code",
   "execution_count": 26,
   "id": "4e835a56",
   "metadata": {},
   "outputs": [
    {
     "name": "stdout",
     "output_type": "stream",
     "text": [
      "+---------------------+\n",
      "|avg(distance_flights)|\n",
      "+---------------------+\n",
      "|            1208.1516|\n",
      "+---------------------+\n",
      "\n"
     ]
    }
   ],
   "source": [
    "df_unificado_proc.agg(F.avg(F.col('distance_flights'))).show()"
   ]
  },
  {
   "cell_type": "markdown",
   "id": "39f35432",
   "metadata": {},
   "source": [
    "# Pergunta 14"
   ]
  },
  {
   "cell_type": "code",
   "execution_count": 27,
   "id": "8243d461",
   "metadata": {},
   "outputs": [
    {
     "name": "stdout",
     "output_type": "stream",
     "text": [
      "+--------------------+---------------------+\n",
      "|region_airports_dest|avg(distance_flights)|\n",
      "+--------------------+---------------------+\n",
      "|              ALASKA|    1741.653162055336|\n",
      "|       MAINLAND-EAST|   2042.3983208955224|\n",
      "|       MAINLAND-WEST|    867.9224137931035|\n",
      "+--------------------+---------------------+\n",
      "\n"
     ]
    }
   ],
   "source": [
    "df_unificado_proc.groupBy('region_airports_dest').avg('distance_flights').show()"
   ]
  },
  {
   "cell_type": "markdown",
   "id": "031ce954",
   "metadata": {},
   "source": [
    "# Pergunta 15"
   ]
  },
  {
   "cell_type": "code",
   "execution_count": 28,
   "id": "fae85767",
   "metadata": {},
   "outputs": [
    {
     "name": "stdout",
     "output_type": "stream",
     "text": [
      "+-------------------+-----------------+---------------------+\n",
      "|faa_airports_origin|faa_airports_dest|avg(distance_flights)|\n",
      "+-------------------+-----------------+---------------------+\n",
      "|                SEA|              RNO|                564.0|\n",
      "|                SEA|              DTW|               1927.0|\n",
      "|                SEA|              CLE|               2021.0|\n",
      "|                SEA|              LAX|                954.0|\n",
      "|                PDX|              SEA|                129.0|\n",
      "|                SEA|              BLI|                 93.0|\n",
      "|                PDX|              IAH|               1825.0|\n",
      "|                PDX|              PHX|               1009.0|\n",
      "|                SEA|              SLC|                689.0|\n",
      "|                SEA|              SBA|                908.0|\n",
      "|                SEA|              BWI|               2335.0|\n",
      "|                PDX|              IAD|               2327.0|\n",
      "|                PDX|              SFO|                550.0|\n",
      "|                SEA|              KOA|               2688.0|\n",
      "|                PDX|              MCI|               1482.0|\n",
      "|                SEA|              SJC|                697.0|\n",
      "|                SEA|              ABQ|               1180.0|\n",
      "|                SEA|              SAT|               1774.0|\n",
      "|                PDX|              ONT|                838.0|\n",
      "|                SEA|              LAS|                867.0|\n",
      "+-------------------+-----------------+---------------------+\n",
      "only showing top 20 rows\n",
      "\n"
     ]
    }
   ],
   "source": [
    "df_unificado_proc.groupBy('faa_airports_origin','faa_airports_dest').avg('distance_flights').show()"
   ]
  },
  {
   "cell_type": "markdown",
   "id": "5724c968",
   "metadata": {},
   "source": [
    "# Pergunta 16"
   ]
  },
  {
   "cell_type": "code",
   "execution_count": 29,
   "id": "e2431d02",
   "metadata": {},
   "outputs": [
    {
     "name": "stdout",
     "output_type": "stream",
     "text": [
      "+----------------------------------------+---------------------+\n",
      "|year(to_timestamp(dep_datetime_flights))|sum(distance_flights)|\n",
      "+----------------------------------------+---------------------+\n",
      "|                                    2014|             12081516|\n",
      "+----------------------------------------+---------------------+\n",
      "\n"
     ]
    }
   ],
   "source": [
    "df_unificado_proc.groupBy(F.year(F.to_timestamp('dep_datetime_flights'))).sum('distance_flights').show()"
   ]
  },
  {
   "cell_type": "markdown",
   "id": "b55d64a2",
   "metadata": {},
   "source": [
    "# Pergunta 17"
   ]
  },
  {
   "cell_type": "code",
   "execution_count": 30,
   "id": "eba79ed8",
   "metadata": {
    "scrolled": true
   },
   "outputs": [
    {
     "name": "stdout",
     "output_type": "stream",
     "text": [
      "+--------------------+---------------------+\n",
      "|region_airports_dest|sum(distance_flights)|\n",
      "+--------------------+---------------------+\n",
      "|              ALASKA|              1762553|\n",
      "|       MAINLAND-EAST|              4378902|\n",
      "|       MAINLAND-WEST|              5940061|\n",
      "+--------------------+---------------------+\n",
      "\n"
     ]
    }
   ],
   "source": [
    "df_unificado_proc.groupBy('region_airports_dest').sum('distance_flights').show()"
   ]
  },
  {
   "cell_type": "markdown",
   "id": "59f76607",
   "metadata": {},
   "source": [
    "# Pergunta 18"
   ]
  },
  {
   "cell_type": "code",
   "execution_count": 31,
   "id": "0073a097",
   "metadata": {},
   "outputs": [
    {
     "name": "stdout",
     "output_type": "stream",
     "text": [
      "+-------------------+-----------------+------------------+\n",
      "|faa_airports_origin|faa_airports_dest| avg(seats_planes)|\n",
      "+-------------------+-----------------+------------------+\n",
      "|                SEA|              RNO|           141.125|\n",
      "|                SEA|              DTW|212.42857142857142|\n",
      "|                SEA|              CLE|             182.0|\n",
      "|                SEA|              LAX| 154.7111111111111|\n",
      "|                PDX|              SEA| 64.28169014084507|\n",
      "|                SEA|              BLI|             163.6|\n",
      "|                PDX|              IAH|182.63636363636363|\n",
      "|                PDX|              PHX|195.63768115942028|\n",
      "|                SEA|              SLC|165.93303571428572|\n",
      "|                SEA|              SBA|              80.0|\n",
      "|                SEA|              BWI|151.27586206896552|\n",
      "|                PDX|              IAD| 187.3913043478261|\n",
      "|                PDX|              SFO|138.27814569536423|\n",
      "|                SEA|              KOA|             170.9|\n",
      "|                PDX|              MCI|             146.6|\n",
      "|                SEA|              SJC|136.96713615023475|\n",
      "|                SEA|              ABQ|144.46511627906978|\n",
      "|                SEA|              SAT|157.77777777777777|\n",
      "|                PDX|              ONT| 79.12280701754386|\n",
      "|                SEA|              LAS| 146.9120879120879|\n",
      "+-------------------+-----------------+------------------+\n",
      "only showing top 20 rows\n",
      "\n"
     ]
    }
   ],
   "source": [
    "df_unificado_proc.groupBy('faa_airports_origin','faa_airports_dest').avg('seats_planes').show()"
   ]
  },
  {
   "cell_type": "markdown",
   "id": "c52af247",
   "metadata": {},
   "source": [
    "# Pergunta 19"
   ]
  },
  {
   "cell_type": "code",
   "execution_count": 32,
   "id": "15d35ae0",
   "metadata": {},
   "outputs": [
    {
     "name": "stdout",
     "output_type": "stream",
     "text": [
      "+----------------------------------------+-----------------+\n",
      "|year(to_timestamp(dep_datetime_flights))|sum(seats_planes)|\n",
      "+----------------------------------------+-----------------+\n",
      "|                                    2014|          1509544|\n",
      "+----------------------------------------+-----------------+\n",
      "\n"
     ]
    }
   ],
   "source": [
    "df_unificado_proc.groupBy(F.year(F.to_timestamp('dep_datetime_flights'))).sum('seats_planes').show()"
   ]
  },
  {
   "cell_type": "markdown",
   "id": "7c770a50",
   "metadata": {},
   "source": [
    "# Pergunta 20"
   ]
  },
  {
   "cell_type": "code",
   "execution_count": 33,
   "id": "ff41657d",
   "metadata": {
    "scrolled": true
   },
   "outputs": [
    {
     "name": "stdout",
     "output_type": "stream",
     "text": [
      "+-----------------+-----+\n",
      "|faa_airports_dest|count|\n",
      "+-----------------+-----+\n",
      "|              SFO|  787|\n",
      "+-----------------+-----+\n",
      "only showing top 1 row\n",
      "\n"
     ]
    }
   ],
   "source": [
    "(df_unificado_proc.groupBy('faa_airports_dest').count()).orderBy(F.col('count').desc()).show(1)"
   ]
  },
  {
   "cell_type": "markdown",
   "id": "cd2cd1a3",
   "metadata": {},
   "source": [
    "# Pergunta 21 "
   ]
  },
  {
   "cell_type": "code",
   "execution_count": 34,
   "id": "a7f5bcee",
   "metadata": {},
   "outputs": [
    {
     "name": "stdout",
     "output_type": "stream",
     "text": [
      "+-----------------+-----------------+\n",
      "|faa_airports_dest|sum(seats_planes)|\n",
      "+-----------------+-----------------+\n",
      "|              SFO|           119635|\n",
      "+-----------------+-----------------+\n",
      "only showing top 1 row\n",
      "\n"
     ]
    }
   ],
   "source": [
    "(df_unificado_proc.groupBy('faa_airports_dest').sum('seats_planes')).orderBy(F.col('sum(seats_planes)').desc()).show(1)"
   ]
  },
  {
   "cell_type": "markdown",
   "id": "3d12d8ba",
   "metadata": {},
   "source": [
    "# Pergunta 22 "
   ]
  },
  {
   "cell_type": "code",
   "execution_count": 35,
   "id": "8ad4ee11",
   "metadata": {},
   "outputs": [
    {
     "name": "stdout",
     "output_type": "stream",
     "text": [
      "+-------------------+-----------------+----------------+\n",
      "|faa_airports_origin|faa_airports_dest|distance_flights|\n",
      "+-------------------+-----------------+----------------+\n",
      "|                PDX|              LIH|            2631|\n",
      "+-------------------+-----------------+----------------+\n",
      "only showing top 1 row\n",
      "\n"
     ]
    }
   ],
   "source": [
    "(df_unificado_proc.select('faa_airports_origin', 'faa_airports_dest', 'distance_flights').where(F.col('faa_airports_origin')=='PDX')).orderBy(F.col('distance_flights').desc()).show(1)"
   ]
  },
  {
   "cell_type": "markdown",
   "id": "e106bbf7",
   "metadata": {},
   "source": [
    "# Pergunta 23"
   ]
  },
  {
   "cell_type": "code",
   "execution_count": 36,
   "id": "b59d7fcc",
   "metadata": {},
   "outputs": [
    {
     "name": "stdout",
     "output_type": "stream",
     "text": [
      "+-----------------------------------------+-----------------+-----+\n",
      "|month(to_timestamp(dep_datetime_flights))|faa_airports_dest|count|\n",
      "+-----------------------------------------+-----------------+-----+\n",
      "|                                        4|              PHX|   60|\n",
      "|                                        1|              RDM|    8|\n",
      "|                                        5|              ONT|    9|\n",
      "|                                        7|              OMA|    2|\n",
      "|                                        8|              MDW|   20|\n",
      "|                                        6|              DEN|   55|\n",
      "|                                        5|              IAD|    9|\n",
      "|                                       12|              COS|    2|\n",
      "|                                       11|              ANC|   34|\n",
      "|                                        5|              AUS|    4|\n",
      "|                                        5|              COS|    3|\n",
      "|                                        2|              PSP|    5|\n",
      "|                                        4|              ORD|   42|\n",
      "|                                       10|              DFW|   34|\n",
      "|                                       10|              DCA|    2|\n",
      "|                                        8|              JNU|    8|\n",
      "|                                       11|              KOA|    5|\n",
      "|                                       10|              OMA|    3|\n",
      "|                                        6|              ONT|    8|\n",
      "|                                        3|              MSP|   20|\n",
      "+-----------------------------------------+-----------------+-----+\n",
      "only showing top 20 rows\n",
      "\n"
     ]
    }
   ],
   "source": [
    "df_unificado_proc.groupBy(F.month(F.to_timestamp('dep_datetime_flights')), 'faa_airports_dest').count().show()"
   ]
  },
  {
   "cell_type": "markdown",
   "id": "b25d05fb",
   "metadata": {},
   "source": [
    "# Pergunta 24"
   ]
  },
  {
   "cell_type": "code",
   "execution_count": 37,
   "id": "98724afd",
   "metadata": {},
   "outputs": [
    {
     "name": "stdout",
     "output_type": "stream",
     "text": [
      "+------------+-----+\n",
      "|model_planes|count|\n",
      "+------------+-----+\n",
      "|     737-890| 1463|\n",
      "+------------+-----+\n",
      "only showing top 1 row\n",
      "\n"
     ]
    }
   ],
   "source": [
    "(df_unificado_proc.groupBy('model_planes').count()).orderBy(F.col('count').desc()).show(1)"
   ]
  },
  {
   "cell_type": "markdown",
   "id": "6111db82",
   "metadata": {},
   "source": [
    "# Pergunta 25"
   ]
  },
  {
   "cell_type": "code",
   "execution_count": 47,
   "id": "4e99700c",
   "metadata": {
    "scrolled": true
   },
   "outputs": [
    {
     "name": "stdout",
     "output_type": "stream",
     "text": [
      "+-----------------+------------+-----+\n",
      "|faa_airports_dest|model_planes|count|\n",
      "+-----------------+------------+-----+\n",
      "|              DFW|        null|  248|\n",
      "|              ORD|        null|  168|\n",
      "|              OAK|     737-7H4|  141|\n",
      "|              ANC|     737-890|  138|\n",
      "|              SNA|     737-790|  122|\n",
      "|              SMF|     737-7H4|  114|\n",
      "|              LAX|     737-890|  110|\n",
      "|              LAS|     737-890|  108|\n",
      "|              SLC|     757-232|  104|\n",
      "|              DEN|    A320-214|  102|\n",
      "|              LGB|    A320-232|  102|\n",
      "|              SAN|     737-890|  102|\n",
      "|              LAS|     737-7H4|   97|\n",
      "|              DEN|     737-7H4|   93|\n",
      "|              PHX|    A320-232|   91|\n",
      "|              SJC|     737-7H4|   89|\n",
      "|              PDX|   EMB-120ER|   87|\n",
      "|              SFO|     737-490|   87|\n",
      "|              SFO|    A319-131|   86|\n",
      "|              SFO|    A320-232|   85|\n",
      "+-----------------+------------+-----+\n",
      "only showing top 20 rows\n",
      "\n"
     ]
    }
   ],
   "source": [
    "(df_unificado_proc.groupBy('faa_airports_dest', 'model_planes').count()).orderBy(F.col('count').desc(), 'faa_airports_dest', 'model_planes').show()"
   ]
  },
  {
   "cell_type": "markdown",
   "id": "6fa93dfe",
   "metadata": {},
   "source": [
    "# Pergunta 26"
   ]
  },
  {
   "cell_type": "code",
   "execution_count": 48,
   "id": "1cd05b12",
   "metadata": {},
   "outputs": [
    {
     "name": "stdout",
     "output_type": "stream",
     "text": [
      "+---------------------+-------------------+\n",
      "|haul_duration_flights|avg(engines_planes)|\n",
      "+---------------------+-------------------+\n",
      "|            LONG-HAUL|                2.0|\n",
      "|          MEDIUM-HAUL| 1.9996078431372548|\n",
      "|           SHORT-HAUL| 1.9992357077346377|\n",
      "+---------------------+-------------------+\n",
      "\n"
     ]
    }
   ],
   "source": [
    "df_unificado_proc.groupBy('haul_duration_flights').avg('engines_planes').show()"
   ]
  },
  {
   "cell_type": "markdown",
   "id": "6f6801dc",
   "metadata": {},
   "source": [
    "# Pergunta 27"
   ]
  },
  {
   "cell_type": "code",
   "execution_count": 50,
   "id": "6baa6d8d",
   "metadata": {},
   "outputs": [
    {
     "name": "stdout",
     "output_type": "stream",
     "text": [
      "+------------------+-----+\n",
      "|dep_season_flights|count|\n",
      "+------------------+-----+\n",
      "|            SUMMER| 2918|\n",
      "+------------------+-----+\n",
      "only showing top 1 row\n",
      "\n"
     ]
    }
   ],
   "source": [
    "(df_unificado_proc.groupBy('dep_season_flights').count()).orderBy(F.col('count').desc()).show(1)"
   ]
  },
  {
   "cell_type": "markdown",
   "id": "f70ac577",
   "metadata": {},
   "source": [
    "# Pergunta 28"
   ]
  },
  {
   "cell_type": "code",
   "execution_count": 51,
   "id": "e414da30",
   "metadata": {},
   "outputs": [
    {
     "name": "stdout",
     "output_type": "stream",
     "text": [
      "+-----------------+------------------+-----+\n",
      "|faa_airports_dest|dep_season_flights|count|\n",
      "+-----------------+------------------+-----+\n",
      "|              SFO|            SUMMER|  217|\n",
      "|              SFO|            SPRING|  199|\n",
      "|              SFO|              FALL|  198|\n",
      "|              LAX|            SPRING|  176|\n",
      "|              SFO|            WINTER|  173|\n",
      "|              DEN|            SUMMER|  172|\n",
      "|              LAX|            SUMMER|  163|\n",
      "|              DEN|            SPRING|  151|\n",
      "|              PHX|            SPRING|  148|\n",
      "|              ANC|            SUMMER|  145|\n",
      "|              DEN|              FALL|  145|\n",
      "|              LAS|            SPRING|  145|\n",
      "|              LAX|            WINTER|  139|\n",
      "|              LAX|              FALL|  137|\n",
      "|              LAS|            SUMMER|  136|\n",
      "|              PHX|            SUMMER|  134|\n",
      "|              PHX|            WINTER|  131|\n",
      "|              LAS|              FALL|  130|\n",
      "|              ORD|            SUMMER|  129|\n",
      "|              DFW|            SUMMER|  122|\n",
      "+-----------------+------------------+-----+\n",
      "only showing top 20 rows\n",
      "\n"
     ]
    }
   ],
   "source": [
    "(df_unificado_proc.groupBy('faa_airports_dest', 'dep_season_flights').count()).orderBy(F.col('count').desc(), 'faa_airports_dest', 'dep_season_flights').show()"
   ]
  },
  {
   "cell_type": "markdown",
   "id": "82a1f799",
   "metadata": {},
   "source": [
    "# Pergunta 29"
   ]
  },
  {
   "cell_type": "code",
   "execution_count": 53,
   "id": "45b13640",
   "metadata": {},
   "outputs": [
    {
     "name": "stdout",
     "output_type": "stream",
     "text": [
      "+--------------------------+-----+\n",
      "|dep_delay_category_flights|count|\n",
      "+--------------------------+-----+\n",
      "|               ANTECIPATED| 5894|\n",
      "|                     MINOR| 3076|\n",
      "+--------------------------+-----+\n",
      "only showing top 2 rows\n",
      "\n"
     ]
    }
   ],
   "source": [
    "(df_unificado_proc.groupBy('dep_delay_category_flights').count()).orderBy(F.col('count').desc()).show(2)"
   ]
  },
  {
   "cell_type": "markdown",
   "id": "cc9b9b81",
   "metadata": {},
   "source": [
    "# Pergunta 30"
   ]
  },
  {
   "cell_type": "code",
   "execution_count": 56,
   "id": "1f493abc",
   "metadata": {},
   "outputs": [
    {
     "name": "stdout",
     "output_type": "stream",
     "text": [
      "+-------------------+-----------------+--------------------------+-----+\n",
      "|faa_airports_origin|faa_airports_dest|dep_delay_category_flights|count|\n",
      "+-------------------+-----------------+--------------------------+-----+\n",
      "|                SEA|              LAX|               ANTECIPATED|  293|\n",
      "|                SEA|              SFO|               ANTECIPATED|  245|\n",
      "|                SEA|              LAS|               ANTECIPATED|  228|\n",
      "|                SEA|              PHX|               ANTECIPATED|  195|\n",
      "|                SEA|              ANC|               ANTECIPATED|  192|\n",
      "|                PDX|              SFO|               ANTECIPATED|  174|\n",
      "|                SEA|              DEN|               ANTECIPATED|  169|\n",
      "|                SEA|              ORD|               ANTECIPATED|  167|\n",
      "|                SEA|              SFO|                     MINOR|  160|\n",
      "|                SEA|              ANC|                     MINOR|  146|\n",
      "|                SEA|              DEN|                     MINOR|  145|\n",
      "|                PDX|              PHX|               ANTECIPATED|  136|\n",
      "|                PDX|              DEN|               ANTECIPATED|  135|\n",
      "|                SEA|              SJC|               ANTECIPATED|  135|\n",
      "|                SEA|              DFW|               ANTECIPATED|  134|\n",
      "|                SEA|              PDX|               ANTECIPATED|  126|\n",
      "|                PDX|              LAX|               ANTECIPATED|  126|\n",
      "|                SEA|              SLC|               ANTECIPATED|  126|\n",
      "|                PDX|              SLC|               ANTECIPATED|  122|\n",
      "|                SEA|              LAX|                     MINOR|  118|\n",
      "+-------------------+-----------------+--------------------------+-----+\n",
      "only showing top 20 rows\n",
      "\n"
     ]
    }
   ],
   "source": [
    "(df_unificado_proc.groupBy('faa_airports_origin', 'faa_airports_dest', 'dep_delay_category_flights').count()).orderBy(F.col('count').desc()).show()"
   ]
  }
 ],
 "metadata": {
  "kernelspec": {
   "display_name": "Python 3 (ipykernel)",
   "language": "python",
   "name": "python3"
  },
  "language_info": {
   "codemirror_mode": {
    "name": "ipython",
    "version": 3
   },
   "file_extension": ".py",
   "mimetype": "text/x-python",
   "name": "python",
   "nbconvert_exporter": "python",
   "pygments_lexer": "ipython3",
   "version": "3.9.7"
  }
 },
 "nbformat": 4,
 "nbformat_minor": 5
}
